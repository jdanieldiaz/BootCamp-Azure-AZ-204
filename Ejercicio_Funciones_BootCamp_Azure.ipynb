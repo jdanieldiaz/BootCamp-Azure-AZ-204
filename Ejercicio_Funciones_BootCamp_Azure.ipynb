{
  "nbformat": 4,
  "nbformat_minor": 0,
  "metadata": {
    "colab": {
      "provenance": [],
      "authorship_tag": "ABX9TyNPSLkvJ43Hg7OFoksYKBQS",
      "include_colab_link": true
    },
    "kernelspec": {
      "name": "python3",
      "display_name": "Python 3"
    },
    "language_info": {
      "name": "python"
    }
  },
  "cells": [
    {
      "cell_type": "markdown",
      "metadata": {
        "id": "view-in-github",
        "colab_type": "text"
      },
      "source": [
        "<a href=\"https://colab.research.google.com/github/jdanieldiaz/BootCamp-Azure-AZ-204/blob/main/Ejercicio_Funciones_BootCamp_Azure.ipynb\" target=\"_parent\"><img src=\"https://colab.research.google.com/assets/colab-badge.svg\" alt=\"Open In Colab\"/></a>"
      ]
    },
    {
      "cell_type": "code",
      "execution_count": 1,
      "metadata": {
        "id": "BSMQ8zjwz58D"
      },
      "outputs": [],
      "source": [
        "def CalcularMontoConIVA(importe, iva=21):\n",
        "  return importe + importe * iva / 100;"
      ]
    },
    {
      "cell_type": "code",
      "source": [
        "CalcularMontoConIVA(100)"
      ],
      "metadata": {
        "colab": {
          "base_uri": "https://localhost:8080/"
        },
        "id": "n64uYb2X0d7V",
        "outputId": "b1579b1b-cce4-4a9c-d8f1-8afdf9cc1c11"
      },
      "execution_count": 2,
      "outputs": [
        {
          "output_type": "execute_result",
          "data": {
            "text/plain": [
              "121.0"
            ]
          },
          "metadata": {},
          "execution_count": 2
        }
      ]
    }
  ]
}